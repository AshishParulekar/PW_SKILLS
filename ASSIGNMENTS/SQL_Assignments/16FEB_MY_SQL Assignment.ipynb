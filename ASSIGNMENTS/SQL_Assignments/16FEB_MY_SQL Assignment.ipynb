{
 "cells": [
  {
   "cell_type": "code",
   "execution_count": null,
   "id": "cfe72eba-22ff-432a-a0c3-5428848a3720",
   "metadata": {},
   "outputs": [],
   "source": [
    "NAME :ASHISH PARULEKR\n",
    "MOB: 8149717616\n",
    "\n",
    "*** Please let me know if there is any improvement  ***"
   ]
  },
  {
   "cell_type": "code",
   "execution_count": null,
   "id": "4f3d9c59-87f2-4733-b406-1331cfab5dd7",
   "metadata": {},
   "outputs": [],
   "source": [
    "Q1. What is a database? Differentiate between SQL and NoSQL databases."
   ]
  },
  {
   "cell_type": "code",
   "execution_count": 1,
   "id": "074f9737-b360-40ca-93ec-ea40928ef84c",
   "metadata": {},
   "outputs": [],
   "source": [
    "    DATABASE IS BASICALLY STORE HOUSE OF A DATAWE CAN STORE DATA IN DATABASE USING QUERY \n",
    "LANGUAGE DATABASE CAN BE CLASSIFIED INTO AS RELATIVE DATA BASE MANAGEMENT SYSTEM AND\n",
    "DATA BASE MANAGEMENT SYSTEM\n",
    "\n",
    "SQL := STANDS FOR STRUCTURED QUERY LANGUAGE \n",
    "NOSQL := STANDS FOR NOT ONLY STRUCTURED QUERY LANGUAGE\n",
    "WE CAN HANDLE ORGANIZED DATA IN SQL\n",
    "WHILE IN NOSQL WE CAN HANDLE NON ORGANIZED DATA LIKE FILES AUDIO VIDEO IMAGES ETC\n"
   ]
  },
  {
   "cell_type": "code",
   "execution_count": null,
   "id": "3107b07c-67ec-4c59-9682-43aac1f16abc",
   "metadata": {},
   "outputs": [],
   "source": [
    "Q2. What is DDL? Explain why CREATE, DROP, ALTER, and TRUNCATE are used with an example."
   ]
  },
  {
   "cell_type": "code",
   "execution_count": 3,
   "id": "da619fd6-0757-41f1-b871-03596e080e6e",
   "metadata": {},
   "outputs": [],
   "source": [
    "DDL := STANDS FOR DATA DEFINING LANGUAGE \n",
    "    EXAMPLES OF DDL COMMANDS ARE CREATE DROP ALTER TRUNCATE ETC\n",
    "    1)CREATE IS USED TO CREATE DATABASE TABLES\n",
    "        EG: CREATE DATABASE NAME     CREATE TABLE NAME.MY\n",
    "    2)DROP SIMILAR TO DELETE COMMAND \n",
    "        EG:DROP DATABASE NAME       DROP DATABASE NAME.MY\n",
    "    3)ALTER ALLOWS US TO MODIFY TABLE OR DATA IN DATABASE\n",
    "        EG:ALTER TABLE NAME\n",
    "    4)TRUNCATE IS USED TO REMOVE ALL ROWS IN TABLE\n",
    "        EG:TRUNCATE TABLE NAME.MY"
   ]
  },
  {
   "cell_type": "code",
   "execution_count": null,
   "id": "8cbe9a35-2dbd-47ca-b3af-9431f6970932",
   "metadata": {},
   "outputs": [],
   "source": [
    "Q3. What is DML? Explain INSERT, UPDATE, and DELETE with an example."
   ]
  },
  {
   "cell_type": "code",
   "execution_count": 4,
   "id": "1cbf455b-826a-4931-a2b8-379f6b71bee9",
   "metadata": {},
   "outputs": [],
   "source": [
    "DML:= STANDS FOR DATA MODIFYING LANGUAGE \n",
    "    EXAMPLES OF DML COMMANDS ARE INSERT UPDATE DELETE ETC\n",
    "    1)INSERT IS USED TO INSERT VALUES OR DATA IN OUR DATABASES TABLES\n",
    "        EG: INSERT DATABASE COLUMN VALUES\n",
    "    2)UPDATE IS USED TO UPDATE DATABASE VALUES\n",
    "        EG:UPDATE DATABASE TABLE COUMNS \n",
    "    3)DELETE IS USED TO DELETE THE PARTICULAR OR SPECIFIC VALUE\n",
    "        EG:DELETE TABLE WHERE (CONDITION)"
   ]
  },
  {
   "cell_type": "code",
   "execution_count": null,
   "id": "3aaa619f-390b-4457-abe6-396cfc0ba41b",
   "metadata": {},
   "outputs": [],
   "source": [
    "Q4. What is DQL? Explain SELECT with an example."
   ]
  },
  {
   "cell_type": "code",
   "execution_count": 6,
   "id": "c2b8b406-0d33-431f-9399-2a2f67bdd13a",
   "metadata": {},
   "outputs": [],
   "source": [
    "DQL :=STANDS FOR DATA QUERY LANFGUAGE\n",
    "    SELECT IS AN EXAMPLE OF DATA QUERY LANGUAGE \n",
    "    SELECT COMMAND RETRIVES VALUES FROM DATABASE AND SHOWS IN OUTPUT\n",
    "    SELECT TAKES FROM AND WHERE VALUES \n",
    "    FROM TO TELL FROM WHICH TABLE AND DATABASE\n",
    "    AND WHERE TO TELL FROM WHICH PART OF DATA\n"
   ]
  },
  {
   "cell_type": "code",
   "execution_count": null,
   "id": "a73108c2-77ee-46f5-9813-80e7eba87ee1",
   "metadata": {},
   "outputs": [],
   "source": [
    "Q5. Explain Primary Key and Foreign Key."
   ]
  },
  {
   "cell_type": "code",
   "execution_count": 8,
   "id": "9b7a818c-8b0e-44d1-b513-87dae44b6052",
   "metadata": {},
   "outputs": [],
   "source": [
    "A PRIMARY KEY GENERALLY FOCCUSES OF UNIQUENESS OF TABLE\n",
    "IT ASSURES THAT VALUES IN PARTICULAR COLUMN IS UNIQUE\n",
    "A FORIENG KEY IS USED TO GENERALLY BUIT RELATIONSHIP BETWEEN TWO TABLES"
   ]
  },
  {
   "cell_type": "code",
   "execution_count": null,
   "id": "51db0127-fd9f-445c-989d-3943f901edd0",
   "metadata": {},
   "outputs": [],
   "source": [
    "Q6. Write a python code to connect MySQL to python. Explain the cursor() \n",
    "and execute() method."
   ]
  },
  {
   "cell_type": "code",
   "execution_count": 14,
   "id": "2eded69e-824e-459e-a121-561492307df6",
   "metadata": {},
   "outputs": [
    {
     "data": {
      "text/plain": [
       "'\\nimport mysql.connector\\nmydb = mysql.connector.connect(\\n  host=\"localhost\",\\n  user=\"abc\",\\n  password=\"password\"\\n)\\n'"
      ]
     },
     "execution_count": 14,
     "metadata": {},
     "output_type": "execute_result"
    }
   ],
   "source": [
    "\"\"\"\n",
    "import mysql.connector\n",
    "mydb = mysql.connector.connect(\n",
    "  host=\"localhost\",\n",
    "  user=\"abc\",\n",
    "  password=\"password\"\n",
    ")\n",
    "\"\"\"\n",
    "THE ABOVE CODE TAKES HOST NAME AND PASSWORD AS INPUT AND CONNECTS PYTHON TO MYSQL\n",
    "WITH THE CURSOR AND EXECUTE WE CAN OPERATE ON DATABASE IN MYSQL USING PYTHON\n",
    "THIS METHOD EXECTES THE DATABASE OPERATION(QUERY OR COMMAND). \n",
    "THE PARAMETERS FOUND IN FORM OF TUPLES AND DICTIONARY ARE BOUND TO VARIABLES IN OPERATION"
   ]
  },
  {
   "cell_type": "markdown",
   "id": "29951cf6-23ba-4e1e-8304-c2fd64d646ee",
   "metadata": {},
   "source": [
    "Q7. Give the order of execution of SQL clauses in an SQL query."
   ]
  },
  {
   "cell_type": "code",
   "execution_count": 16,
   "id": "db4d7b96-f863-4974-8be9-d3e626c1565e",
   "metadata": {},
   "outputs": [],
   "source": [
    "THE ORDER IN WHICH QUEREY ARE EXCEUTED IS AS FOLOWS:\n",
    "\n",
    "1.FROM/JOIN\n",
    "2.WHERE\n",
    "3.GROUP BY\n",
    "4.HAVING\n",
    "5.SELECT\n",
    "6.ORDER BY\n",
    "7.LINIT/OFFSET"
   ]
  },
  {
   "cell_type": "code",
   "execution_count": null,
   "id": "f65b07b9-ac06-4797-8a6b-45b1ca291c01",
   "metadata": {},
   "outputs": [],
   "source": [
    "END"
   ]
  }
 ],
 "metadata": {
  "kernelspec": {
   "display_name": "Python 3 (ipykernel)",
   "language": "python",
   "name": "python3"
  },
  "language_info": {
   "codemirror_mode": {
    "name": "ipython",
    "version": 3
   },
   "file_extension": ".py",
   "mimetype": "text/x-python",
   "name": "python",
   "nbconvert_exporter": "python",
   "pygments_lexer": "ipython3",
   "version": "3.10.8"
  }
 },
 "nbformat": 4,
 "nbformat_minor": 5
}
