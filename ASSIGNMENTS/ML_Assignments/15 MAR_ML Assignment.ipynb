{
 "cells": [
  {
   "cell_type": "code",
   "execution_count": null,
   "id": "adb40023-3f97-4428-8ca5-26833f288385",
   "metadata": {},
   "outputs": [],
   "source": [
    "NAME :ASHISH PARULEKR\n",
    "MOB: 8149717616\n",
    "\n",
    "*** Please let me know if there is any improvement  ***"
   ]
  },
  {
   "cell_type": "code",
   "execution_count": null,
   "id": "fcff424c-2fb3-4a33-b17b-6297b8f4a13b",
   "metadata": {},
   "outputs": [],
   "source": [
    "Q1:Explain the following with an example:\n",
    "    a)Artificial Intelligenc\n",
    "    b)Machine Learnin\n",
    "    c)Deep Learning"
   ]
  },
  {
   "cell_type": "code",
   "execution_count": null,
   "id": "813f32b8-f9f8-448b-aa4f-4398eaa7bb5d",
   "metadata": {},
   "outputs": [],
   "source": [
    "A)Artificial Intelligence :-\n",
    "\n",
    "    Artificial Intelligence is a method of making a computer, a computer-controlled robot, or a software \n",
    "think intelligently like the human mind. AI is accomplished by studying the patterns of the human brain and \n",
    "by analyzing the cognitive process. The outcome of these studies develops intelligent software and systems.\n",
    "\n",
    "B) Machine Learning : -\n",
    "\n",
    "    Machine learning is an application of artificial intelligence that uses statistical techniques to enable \n",
    "computers to learn and make decisions without being explicitly programmed. It is predicated on the \n",
    "notion that computers can learn from data, spot patterns, and make judgments with little assistance \n",
    "from humans.\n",
    "\n",
    "C) Deep Learning:-\n",
    "\n",
    "    Deep learning is a method in artificial intelligence (AI) that teaches computers to process data in a\n",
    "way that is inspired by the human brain. Deep learning models can recognize complex patterns in \n",
    "pictures, text, sounds, and other data to produce accurate insights and predictions."
   ]
  },
  {
   "cell_type": "code",
   "execution_count": null,
   "id": "7d0880a3-c626-4d8d-828b-7bc7ac8bfdab",
   "metadata": {},
   "outputs": [],
   "source": [
    "Q2: What is supervised learning? List some examples of supervised learning.\n",
    "\n",
    "supervised learning:-\n",
    "\n",
    "    Supervised learning is when the model is getting trained on a labelled \n",
    "dataset.A labelled dataset is one that has both input and output\n",
    "parameters. In this type of learning both training and validation,datasets\n",
    "are labelled\n",
    "\n",
    "Examples : -\n",
    "\n",
    "    1) spam mail Detection \n",
    "    2) Cancer patient detection \n",
    "    3) Tiatenic survival pridiction \n",
    "    4) Credit Card fraud detection\n",
    "    5) Loan defaulter pridiction"
   ]
  },
  {
   "cell_type": "code",
   "execution_count": null,
   "id": "003a124e-c47b-4e3e-9d25-fdead2ac26f5",
   "metadata": {},
   "outputs": [],
   "source": [
    "Q3: What is unsupervised learning? List some examples of unsupervised \n",
    "learning.\n",
    "\n",
    "unsupervised learning;-\n",
    "\n",
    "    Unsupervised Learning is a machine learning technique in which the \n",
    "users do not need to supervise the model. Instead, it allows the model to\n",
    "work on its own to discover patterns and information that was previously \n",
    "undetected. It mainly deals with the unlabelled data."
   ]
  },
  {
   "cell_type": "code",
   "execution_count": null,
   "id": "f85c1293-548e-4e77-934f-f7a92fe744cc",
   "metadata": {},
   "outputs": [],
   "source": [
    "Q4: What is the difference between AI, ML, DL, and DS?\n",
    "\n",
    "Artificial Intelligence:=\n",
    "\n",
    "    Artificial Intelligence (AI) enables machines to think by understanding, learning from the data, and taking decisions based on patterns hidden in the data or make inferences that would otherwise be very difficult for humans to make manually. The end goal of using ML or DL is to create an AI application or machine as smart \n",
    "as humans.\n",
    "\n",
    "Machine Learning:=\n",
    "    Machine Learning (ML) is a subset of AI; it provides us statistical tools/techniques like Supervised,\n",
    "Unsupervised, and Reinforcement learning to explore and analyze the data.\n",
    "\n",
    "\n",
    "Deep Learning (DL) :=\n",
    "    Deep Learning (DL) is further a subset of ML, and the main idea behind it is to make machines learn by \n",
    "mimicking the human brain. Here, we create a multi neural network architecture with the help of different \n",
    "techniques like ANN, CNN, and RNN.\n",
    "\n",
    "Data Science:-\n",
    "    Data Science (DS) is basically drawing insights from structured and unstructured data either by using ML or DL or without these techniques. We can even use different visualization tools, statistics, and probability to\n",
    "gain these insights.\n",
    "\n"
   ]
  },
  {
   "cell_type": "code",
   "execution_count": null,
   "id": "0f220a7e-78e4-418b-be1b-3f26cd496d1c",
   "metadata": {},
   "outputs": [],
   "source": [
    "Q5: What are the main differences between supervised, unsupervised, and semi-supervised learning?"
   ]
  },
  {
   "cell_type": "code",
   "execution_count": null,
   "id": "0d70b3a8-de65-4e7e-90fd-a15a4b3254c5",
   "metadata": {},
   "outputs": [],
   "source": [
    "Supervised Learning:-\n",
    "    Supervised Learning is a category in which we feed labeled data as input to the machine learning model.\n",
    "    \n",
    "Unsupervised learning :-   \n",
    "    Unsupervised learning is a category of machine learning in which we only have the input data fed to \n",
    "the model but no corresponding output data.\n",
    "\n",
    "\n",
    "Semi-supervised learning:-\n",
    "    Semi-supervised learning is a category of machine learning in which we have input data, and only some of \n",
    "those input data are labeled as the output."
   ]
  },
  {
   "cell_type": "code",
   "execution_count": null,
   "id": "7f63cb9e-6f57-47d9-b146-c29b2cba5415",
   "metadata": {},
   "outputs": [],
   "source": [
    "Q6: What is train, test and validation split? Explain the importance of each term."
   ]
  },
  {
   "cell_type": "code",
   "execution_count": null,
   "id": "1d8c569d-0e17-46f5-9b31-6bd25d2f0307",
   "metadata": {},
   "outputs": [],
   "source": [
    "train data split:-\n",
    "    Training data is the set of the data on which the actual training takes place. \n",
    "validation data split:-\n",
    "    Validation split helps to improve the model performance by fine-tuning the model after each epoch. \n",
    "tast data split:-\n",
    "    The test set informs us about the final accuracy of the model after completing the training phase."
   ]
  },
  {
   "cell_type": "code",
   "execution_count": null,
   "id": "09d6ccdb-3ff6-40b5-8648-91f07de5afeb",
   "metadata": {},
   "outputs": [],
   "source": [
    "Q7: How can unsupervised learning be used in anomaly detection?\n",
    "\n",
    "    Unsupervised learning algorithms can be applied in many fields and are especially useful for anomaly \n",
    "detection. One of the most common algorithms is Density Based Scan \n",
    "Clustering (DBSCAN)\n",
    "\n",
    "\n",
    "    DBSCAN (Density-Based Spatial Clustering of Applications with Noise) is a very useful algorithm \n",
    "for identifying noise in data. The logic of this algorithm is based on identifying a series of central\n",
    "points determined by the neighbouring points of each data within a defined radius. These ‘neighbourhoods’\n",
    "of data will form clusters, so that data outside of them will be identified as noise."
   ]
  },
  {
   "cell_type": "code",
   "execution_count": null,
   "id": "73fecfd8-1efc-4fab-9fc7-a04d29df9762",
   "metadata": {},
   "outputs": [],
   "source": [
    "Q8: List down some commonly used supervised learning algorithms and unsupervised learning\n",
    "algorithms."
   ]
  },
  {
   "cell_type": "code",
   "execution_count": null,
   "id": "ec35c7d1-0e5b-4e76-a940-d097409100dc",
   "metadata": {},
   "outputs": [],
   "source": [
    "Supervised Learning Algorithms:\n",
    "    \n",
    "    All classification and regression algorithms come under supervised learning.\n",
    "\n",
    "    1) Logistic Regression\n",
    "    2)Decision trees\n",
    "    3)Support vector machine (SVM)\n",
    "    4)k-Nearest Neighbors\n",
    "    5)Naive Bayes\n",
    "    6)Random forest\n",
    "    7)Linear regression\n",
    "    8)polynomial regression\n",
    "    9)SVM for regression\n",
    "\n",
    "\n",
    "Unsupervised learning algorithms:\n",
    "    All clustering algorithms come under unsupervised learning algorithms.\n",
    "\n",
    "    1)K – means clustering\n",
    "    2)Hierarchical clustering\n",
    "    3)DBSCAN (Density-Based Spatial Clustering of Applications with Noise)"
   ]
  },
  {
   "cell_type": "raw",
   "id": "65a7ee2d-fbd5-4372-b7f2-4cf2e610df91",
   "metadata": {},
   "source": [
    "END"
   ]
  }
 ],
 "metadata": {
  "kernelspec": {
   "display_name": "Python 3 (ipykernel)",
   "language": "python",
   "name": "python3"
  },
  "language_info": {
   "codemirror_mode": {
    "name": "ipython",
    "version": 3
   },
   "file_extension": ".py",
   "mimetype": "text/x-python",
   "name": "python",
   "nbconvert_exporter": "python",
   "pygments_lexer": "ipython3",
   "version": "3.10.8"
  }
 },
 "nbformat": 4,
 "nbformat_minor": 5
}
