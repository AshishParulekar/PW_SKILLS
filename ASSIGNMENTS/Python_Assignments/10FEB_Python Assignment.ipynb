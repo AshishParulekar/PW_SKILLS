{
 "cells": [
  {
   "cell_type": "code",
   "execution_count": null,
   "id": "ba2c9670-226f-49ae-b96b-699b0ac9c026",
   "metadata": {},
   "outputs": [],
   "source": [
    "NAME :ASHISH PARULEKR\n",
    "MOB: 8149717616\n",
    "\n",
    "*** Please let me know if there is any improvement  ***"
   ]
  },
  {
   "cell_type": "code",
   "execution_count": null,
   "id": "35d7fc00-c60e-4623-ada5-5f64e7f42f32",
   "metadata": {},
   "outputs": [],
   "source": [
    "Q1. Which function is used to open a file? What are the different modes of opening a file? Explain each mode\n",
    "of file opening."
   ]
  },
  {
   "cell_type": "code",
   "execution_count": null,
   "id": "6deb097d-3410-4b60-aa3a-26650023a3b6",
   "metadata": {},
   "outputs": [],
   "source": [
    "open() function is used to open a file .\n",
    "'x' create a new file \n",
    "'a' append a data \n",
    "'r' reading file data\n",
    "'w' write a data"
   ]
  },
  {
   "cell_type": "code",
   "execution_count": 12,
   "id": "7460d7a3-a577-437c-9310-c0fb3a7d142d",
   "metadata": {},
   "outputs": [
    {
     "data": {
      "text/plain": [
       "'I want to become a Data Scientist’ in that file.\\nI want to become a Data Scientist’ in that file'"
      ]
     },
     "execution_count": 12,
     "metadata": {},
     "output_type": "execute_result"
    }
   ],
   "source": [
    "#'x' create a new file \n",
    "file_1=open('file_1.txt','a')\n",
    "file_1.close()\n",
    "#'w' write a data\n",
    "file_1=open('file_1.txt','w')\n",
    "file_1.write('I want to become a Data Scientist’ in that file.')\n",
    "file_1.close()\n",
    "#'a' append a data \n",
    "file_1=open('file_1.txt','a')\n",
    "file_1.write('\\nI want to become a Data Scientist’ in that file')\n",
    "file_1.close()\n",
    "#'r' reading file data\n",
    "file_1=open('file_1.txt','r')\n",
    "file_1.read()\n"
   ]
  },
  {
   "cell_type": "code",
   "execution_count": null,
   "id": "ae6817f0-7396-402b-8e92-7c630c6f5c84",
   "metadata": {},
   "outputs": [],
   "source": [
    "Q2. Why close() function is used? Why is it important to close a file?\n",
    "\n",
    "The close() method closes an open file.we should always close our files, in some cases, \n",
    "due to buffering, changes made to a file may not show until you close the file."
   ]
  },
  {
   "cell_type": "code",
   "execution_count": null,
   "id": "82f7ebbc-412c-47c7-9a2d-d23d6ca75695",
   "metadata": {},
   "outputs": [],
   "source": [
    "Q3. Write a python program to create a text file. Write ‘I want to become a Data Scientist’ in that file. Then\n",
    "close the file. Open this file and read the content of the file."
   ]
  },
  {
   "cell_type": "code",
   "execution_count": 13,
   "id": "3557b8f2-19dc-4c16-b838-850529a0f479",
   "metadata": {},
   "outputs": [
    {
     "data": {
      "text/plain": [
       "'I want to become a Data Scientist’ in that file.'"
      ]
     },
     "execution_count": 13,
     "metadata": {},
     "output_type": "execute_result"
    }
   ],
   "source": [
    "file_1=open('file_1.txt','w')\n",
    "file_1.write('I want to become a Data Scientist’ in that file.')\n",
    "file_1.close()\n",
    "\n",
    "file_1=open('file_1.txt','r')\n",
    "file_1.read()\n",
    "\n"
   ]
  },
  {
   "cell_type": "code",
   "execution_count": null,
   "id": "17459e8a-c263-4ef1-bc9a-c059f7ebfecc",
   "metadata": {},
   "outputs": [],
   "source": [
    "Q4. Explain the following with python code: read(), readline() and readlines()."
   ]
  },
  {
   "cell_type": "code",
   "execution_count": 21,
   "id": "8455a35a-62d6-4503-b92c-f3113bcd568a",
   "metadata": {},
   "outputs": [],
   "source": [
    "file_1=open('file_1.txt','w')\n",
    "file_1.write('Because files are limited resources managed by the operating system, making sure files are closed after use will protect against hard-to-debug issues like running out of file handles or experiencing corrupted data.\\n The best defense is always to open files with a context manage')\n",
    "file_1.close()"
   ]
  },
  {
   "cell_type": "code",
   "execution_count": 4,
   "id": "b29783b4-dcbc-4e65-be4d-6c50fbaa9c1b",
   "metadata": {},
   "outputs": [
    {
     "data": {
      "text/plain": [
       "'Because files are limited resources managed by the operating system, making sure files are closed after use will protect against hard-to-debug issues like running out of file handles or experiencing corrupted data.\\n The best defense is always to open files with a context manage'"
      ]
     },
     "execution_count": 4,
     "metadata": {},
     "output_type": "execute_result"
    }
   ],
   "source": [
    "file_1=open('file_1.txt','r')\n",
    "file_1.read()#read all the data"
   ]
  },
  {
   "cell_type": "code",
   "execution_count": 5,
   "id": "db7c2304-4548-4a23-a9a5-8a8d8a7d13e7",
   "metadata": {},
   "outputs": [
    {
     "data": {
      "text/plain": [
       "'Because files are limited resources managed by the operating system, making sure files are closed after use will protect against hard-to-debug issues like running out of file handles or experiencing corrupted data.\\n'"
      ]
     },
     "execution_count": 5,
     "metadata": {},
     "output_type": "execute_result"
    }
   ],
   "source": [
    "file_1=open('file_1.txt','r')\n",
    "file_1.readline()# read data line by line "
   ]
  },
  {
   "cell_type": "code",
   "execution_count": 6,
   "id": "49ecdd94-1f51-4bca-b57a-1b2515835ccc",
   "metadata": {},
   "outputs": [
    {
     "data": {
      "text/plain": [
       "' The best defense is always to open files with a context manage'"
      ]
     },
     "execution_count": 6,
     "metadata": {},
     "output_type": "execute_result"
    }
   ],
   "source": [
    "file_1.readline()"
   ]
  },
  {
   "cell_type": "code",
   "execution_count": 7,
   "id": "c1c16fc9-1563-42bb-88c2-a93c1ef5e13a",
   "metadata": {},
   "outputs": [
    {
     "data": {
      "text/plain": [
       "10"
      ]
     },
     "execution_count": 7,
     "metadata": {},
     "output_type": "execute_result"
    }
   ],
   "source": [
    "file_1.seek(10)"
   ]
  },
  {
   "cell_type": "code",
   "execution_count": 8,
   "id": "20498b86-fd30-4424-9df2-2a89eecc56fc",
   "metadata": {},
   "outputs": [
    {
     "data": {
      "text/plain": [
       "['les are limited resources managed by the operating system, making sure files are closed after use will protect against hard-to-debug issues like running out of file handles or experiencing corrupted data.\\n',\n",
       " ' The best defense is always to open files with a context manage']"
      ]
     },
     "execution_count": 8,
     "metadata": {},
     "output_type": "execute_result"
    }
   ],
   "source": [
    "file_1.readlines()##read all the lines"
   ]
  },
  {
   "cell_type": "code",
   "execution_count": 17,
   "id": "b3876b8e-65bd-419e-a6f3-5b05e4438ed9",
   "metadata": {},
   "outputs": [],
   "source": [
    "file_1.close()"
   ]
  },
  {
   "cell_type": "code",
   "execution_count": null,
   "id": "aab4dab9-6225-421d-af57-780e8a0e8449",
   "metadata": {},
   "outputs": [],
   "source": [
    "Q5. Explain why with statement is used with open(). What is the advantage of using with statement and\n",
    "open() together?"
   ]
  },
  {
   "cell_type": "code",
   "execution_count": 42,
   "id": "f93552d5-4534-49cd-95c3-332a95770d9f",
   "metadata": {},
   "outputs": [
    {
     "name": "stdout",
     "output_type": "stream",
     "text": [
      "       with statement is used in exception handling to make the code cleaner and much more readable. \n",
      "    It simplifies the management of common resources like file streams. \n",
      "\n",
      "       There is no need to call file.close() when using with statement. \n",
      "    The with statement itself ensures proper acquisition and release of resources.\n"
     ]
    }
   ],
   "source": [
    "with open('file_2.txt','w') as file:\n",
    "    file.write(\n",
    "    '''       with statement is used in exception handling to make the code cleaner and much more readable. \n",
    "    It simplifies the management of common resources like file streams. \n",
    "\n",
    "       There is no need to call file.close() when using with statement. \n",
    "    The with statement itself ensures proper acquisition and release of resources.''')\n",
    "    \n",
    "with open('file_2.txt','r') as file:\n",
    "     print(file.read())    \n",
    "    "
   ]
  },
  {
   "cell_type": "code",
   "execution_count": null,
   "id": "083c4eaf-2a8b-4c19-82dc-b5cb9d9807c8",
   "metadata": {},
   "outputs": [],
   "source": [
    "Q6. Explain the write() and writelines() functions. Give a suitable example."
   ]
  },
  {
   "cell_type": "code",
   "execution_count": 96,
   "id": "ac66ebc9-162c-41c1-957f-0e358203c05f",
   "metadata": {},
   "outputs": [
    {
     "name": "stdout",
     "output_type": "stream",
     "text": [
      "HORSE\n",
      "DOG\n"
     ]
    }
   ],
   "source": [
    "file=open('file_3.txt','w')\n",
    "file.write('HORSE\\n')\n",
    "file.write('DOG')\n",
    "file=open('file_3.txt','r')\n",
    "print(file.read())\n",
    "file.close()"
   ]
  },
  {
   "cell_type": "code",
   "execution_count": 95,
   "id": "905dee58-dd47-453e-9468-7764ecef70a2",
   "metadata": {},
   "outputs": [
    {
     "name": "stdout",
     "output_type": "stream",
     "text": [
      "HORSE\n",
      "DOG\n",
      "DOG\n"
     ]
    }
   ],
   "source": [
    "file=open('file_3.txt','w')\n",
    "file.writelines(['HORSE\\n','DOG\\n'])\n",
    "file.writelines('DOG')\n",
    "file=open('file_3.txt','r')\n",
    "print(file.read())\n",
    "file.close()"
   ]
  },
  {
   "cell_type": "code",
   "execution_count": 82,
   "id": "e4507e9d-b186-417d-ac9e-7f2627dddace",
   "metadata": {},
   "outputs": [],
   "source": [
    "#Write()= method used to write string data type\n",
    "#WriteLines() method used to write sequence data type "
   ]
  },
  {
   "cell_type": "code",
   "execution_count": null,
   "id": "ed4ea8b1-269b-4254-9b35-3ecc1f61550f",
   "metadata": {},
   "outputs": [],
   "source": [
    "END"
   ]
  }
 ],
 "metadata": {
  "kernelspec": {
   "display_name": "Python 3 (ipykernel)",
   "language": "python",
   "name": "python3"
  },
  "language_info": {
   "codemirror_mode": {
    "name": "ipython",
    "version": 3
   },
   "file_extension": ".py",
   "mimetype": "text/x-python",
   "name": "python",
   "nbconvert_exporter": "python",
   "pygments_lexer": "ipython3",
   "version": "3.10.8"
  }
 },
 "nbformat": 4,
 "nbformat_minor": 5
}
