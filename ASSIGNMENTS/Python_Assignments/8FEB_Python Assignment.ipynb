{
 "cells": [
  {
   "cell_type": "code",
   "execution_count": null,
   "id": "8ab24669-6f68-424c-b6c9-bbaecf349d6f",
   "metadata": {},
   "outputs": [],
   "source": [
    "NAME :ASHISH PARULEKR\n",
    "MOB: 8149717616\n",
    "\n",
    "*** Please let me know if there is any improvement  ***"
   ]
  },
  {
   "cell_type": "code",
   "execution_count": null,
   "id": "87bf2d62-c6ce-4fd4-a2d1-12bc2eec77e1",
   "metadata": {},
   "outputs": [],
   "source": [
    "Q1. What is Abstraction in OOps? Explain with an example."
   ]
  },
  {
   "cell_type": "code",
   "execution_count": null,
   "id": "3f49b241-38bb-4108-86e0-796e3ec2a252",
   "metadata": {},
   "outputs": [],
   "source": [
    "    Abstraction in python is defined as a process of handling complexity by hiding unnecessary information from the \n",
    "user.This is one of the core concepts of object-oriented programming (OOP) languages"
   ]
  },
  {
   "cell_type": "code",
   "execution_count": null,
   "id": "76c45bd2-9c41-4aae-a8fb-81e1215246ab",
   "metadata": {},
   "outputs": [],
   "source": [
    "from abc import ABC,abstractmethod\n",
    " \n",
    "class Animal(ABC):\n",
    " \n",
    "    def sleep(self):\n",
    "        print(\"I am going to sleep in a while\")\n",
    "    @abstractmethod\n",
    "    def sound(self):\n",
    "\t  print(\"This function is for defining the sound by any animal\")\n",
    " \n",
    "\n",
    "class Snake(Animal):\n",
    "    def sound(self):# this function should be prsent in child from parent \n",
    "        print(\"I can hiss\")"
   ]
  },
  {
   "cell_type": "code",
   "execution_count": null,
   "id": "e599a184-5753-4608-82b1-506d31d91022",
   "metadata": {},
   "outputs": [],
   "source": [
    "Q2. Differentiate between Abstraction and Encapsulation. Explain with an example."
   ]
  },
  {
   "cell_type": "code",
   "execution_count": null,
   "id": "b9eafcf7-723e-48f9-8df1-cd0e7ddf7b28",
   "metadata": {},
   "outputs": [],
   "source": [
    "       Definition. Abstraction is hiding the details and implementation of the code. \n",
    "Encapsulation is hiding the data and controlling the visibility of the code."
   ]
  },
  {
   "cell_type": "code",
   "execution_count": null,
   "id": "9c6c4cf3-1237-487f-8c01-366328258ea1",
   "metadata": {},
   "outputs": [],
   "source": [
    "Abstarction:\n",
    "\n",
    "from abc import ABC,abstractmethod\n",
    " \n",
    "class Animal(ABC):\n",
    " \n",
    "    def sleep(self):\n",
    "        print(\"I am going to sleep in a while\")\n",
    "    @abstractmethod\n",
    "    def sound(self):\n",
    "\t  print(\"This function is for defining the sound by any animal\")\n",
    " \n",
    "\n",
    "class Snake(Animal):\n",
    "    def sound(self):# this function should be prsent in child from parent \n",
    "        print(\"I can hiss\")"
   ]
  },
  {
   "cell_type": "code",
   "execution_count": 13,
   "id": "10c7d082-7e3f-4517-b86c-e5a16f9acb02",
   "metadata": {},
   "outputs": [],
   "source": [
    "#Encapsulation\n",
    "\n",
    "class Animal():\n",
    "    def __init__(self,Animal_name):\n",
    "        self.__animal=Animal_name\n",
    "    \n",
    "    def get(self):\n",
    "        return self.__animal # provision for change hidden varible\n",
    "    def set(self,name):\n",
    "        self.__animal=name\n",
    "        return self.__animal"
   ]
  },
  {
   "cell_type": "code",
   "execution_count": 14,
   "id": "6a955867-a7d7-4793-949c-49c8c2f04edc",
   "metadata": {},
   "outputs": [],
   "source": [
    "x=Animal('horse')"
   ]
  },
  {
   "cell_type": "code",
   "execution_count": 15,
   "id": "ecf1c573-c0ea-4af1-9e74-05001864655b",
   "metadata": {},
   "outputs": [
    {
     "data": {
      "text/plain": [
       "'horse'"
      ]
     },
     "execution_count": 15,
     "metadata": {},
     "output_type": "execute_result"
    }
   ],
   "source": [
    "x.get()"
   ]
  },
  {
   "cell_type": "code",
   "execution_count": 16,
   "id": "484441e6-52c2-4442-a570-b1e692481c21",
   "metadata": {},
   "outputs": [
    {
     "data": {
      "text/plain": [
       "'monkey'"
      ]
     },
     "execution_count": 16,
     "metadata": {},
     "output_type": "execute_result"
    }
   ],
   "source": [
    "x.set('monkey')"
   ]
  },
  {
   "cell_type": "code",
   "execution_count": null,
   "id": "3c341d46-f575-44a3-8bea-a5c4080d7830",
   "metadata": {},
   "outputs": [],
   "source": [
    "Q3. What is abc module in python? Why is it used?"
   ]
  },
  {
   "cell_type": "code",
   "execution_count": null,
   "id": "77cfa57b-45dc-43fd-a2d2-e3302d57b898",
   "metadata": {},
   "outputs": [],
   "source": [
    "The 'abc' module in Python library provides the infrastructure for defining custom abstract base classes. \n",
    "'abc' works by marking methods of the base class as abstract. This is done by @absttractmethod decorator."
   ]
  },
  {
   "cell_type": "code",
   "execution_count": null,
   "id": "604dc6af-a711-4e2e-8727-84f5813fa52f",
   "metadata": {},
   "outputs": [],
   "source": [
    "Q4. How can we achieve data abstraction?"
   ]
  },
  {
   "cell_type": "code",
   "execution_count": null,
   "id": "c4e8c778-3a6c-4409-980e-f702cee2c20a",
   "metadata": {},
   "outputs": [],
   "source": [
    "Q5. Can we create an instance of an abstract class? Explain your answer.\n",
    "bstract classes cannot be instantiated, but they can be subclassed. When an abstract class is subclassed, the subclass \n",
    "usually provides implementationsfor all of the abstract methods in its parent class. However, if it does not\n",
    "then the subclass must also be declared abstract ."
   ]
  },
  {
   "cell_type": "code",
   "execution_count": null,
   "id": "fa16a6cc-e7b2-4dda-ac6c-bf363b6cce60",
   "metadata": {},
   "outputs": [],
   "source": [
    "END"
   ]
  }
 ],
 "metadata": {
  "kernelspec": {
   "display_name": "Python 3 (ipykernel)",
   "language": "python",
   "name": "python3"
  },
  "language_info": {
   "codemirror_mode": {
    "name": "ipython",
    "version": 3
   },
   "file_extension": ".py",
   "mimetype": "text/x-python",
   "name": "python",
   "nbconvert_exporter": "python",
   "pygments_lexer": "ipython3",
   "version": "3.10.8"
  }
 },
 "nbformat": 4,
 "nbformat_minor": 5
}
