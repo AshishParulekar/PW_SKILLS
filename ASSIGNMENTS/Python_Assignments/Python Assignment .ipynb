{
 "cells": [
  {
   "cell_type": "raw",
   "id": "b1cc7a11-b327-4eb9-a241-c3b4da322832",
   "metadata": {},
   "source": [
    "NAME :ASHISH PARULEKR\n",
    "MOB: 8149717616\n",
    "\n",
    "*** Please let me know if there is any improvement  ***"
   ]
  },
  {
   "cell_type": "code",
   "execution_count": null,
   "id": "a5f7e4d0-0454-4826-8700-00ebfd18c182",
   "metadata": {},
   "outputs": [],
   "source": [
    "Q1. Explain with an example each when to use a for loop and a while loop."
   ]
  },
  {
   "cell_type": "code",
   "execution_count": 5,
   "id": "9fb4f4b2-c386-4aa8-be94-37403b3e8187",
   "metadata": {},
   "outputs": [
    {
     "name": "stdout",
     "output_type": "stream",
     "text": [
      "0\n",
      "1\n",
      "2\n",
      "3\n",
      "4\n",
      "5\n",
      "6\n",
      "7\n",
      "8\n",
      "9\n"
     ]
    }
   ],
   "source": [
    "# when whe want to iterate up to number of elemrnt that we have\n",
    "for i in range(0,10):\n",
    "    print (i)"
   ]
  },
  {
   "cell_type": "code",
   "execution_count": 8,
   "id": "39288a3d-76de-4ade-8dde-13790dbba0d0",
   "metadata": {},
   "outputs": [
    {
     "name": "stdout",
     "output_type": "stream",
     "text": [
      "13\n",
      "11\n",
      "9\n"
     ]
    }
   ],
   "source": [
    "# While loop iterate till condion true \n",
    "x=15\n",
    "while(x>10):\n",
    "    x-=2\n",
    "    print(x)"
   ]
  },
  {
   "cell_type": "raw",
   "id": "061a62f9-7f7e-42f5-a7bd-09f1fc1bb939",
   "metadata": {},
   "source": [
    "Q2. Write a python program to print the sum and product of the first 10 natural numbers using for\n",
    "and while loop."
   ]
  },
  {
   "cell_type": "code",
   "execution_count": 48,
   "id": "d241fc10-69b0-44cb-82c5-03ce9d15b7ec",
   "metadata": {},
   "outputs": [
    {
     "name": "stdout",
     "output_type": "stream",
     "text": [
      "sum of first 10 natural numbers by using for loop:= 55\n",
      "sum of first 10 natural numbers by using while loop := 55\n"
     ]
    }
   ],
   "source": [
    "#sum first 10 of Natural number by using for loop \n",
    "a=0\n",
    "for i in range(1,11):\n",
    "    n=a+i\n",
    "    a=n\n",
    "print('sum of first 10 natural numbers by using for loop:=',n)\n",
    "\n",
    "\"++++++++++++++++++++++++++++++++++++++++++++++++++++++++++++++++\" \n",
    "\n",
    "#sum first 10 of Natural number by using While loop\n",
    "a=0\n",
    "x=1\n",
    "while(x<11):\n",
    "    n=a+x\n",
    "    a=n\n",
    "    x+=1\n",
    "print('sum of first 10 natural numbers by using while loop :=',n)"
   ]
  },
  {
   "cell_type": "code",
   "execution_count": 50,
   "id": "46ae79f9-431d-47d5-bbe4-e364d9720f42",
   "metadata": {},
   "outputs": [
    {
     "name": "stdout",
     "output_type": "stream",
     "text": [
      "sum of first 10 natural numbers by using for loop:= 362880\n",
      "sum of first 10 natural numbers by using while loop:= 362880\n"
     ]
    }
   ],
   "source": [
    "#product first 10 of Natural number by using for loop \n",
    "a=1\n",
    "b=2\n",
    "for i in range(1,10):\n",
    "    n=a*i\n",
    "    a=n\n",
    "print('sum of first 10 natural numbers by using for loop:=',n)\n",
    "\n",
    "\"++++++++++++++++++++++++++++++++++++++++++++++++++++++++++++++++\" \n",
    "\n",
    "#product first 10 of Natural number by using While loop\n",
    "a=1\n",
    "x=1\n",
    "while(x<10):\n",
    "    n=a*x\n",
    "    a=n\n",
    "    x+=1\n",
    "print('sum of first 10 natural numbers by using while loop:=',n)"
   ]
  },
  {
   "cell_type": "raw",
   "id": "540f66ee-796e-4b7b-9af4-cf09ebdd99e9",
   "metadata": {},
   "source": [
    "Q3. Create a python program to compute the electricity bill for a household.\n",
    "The per-unit charges in rupees are as follows: \n",
    "\n",
    "For the first 100 units, the user will be charged Rs. 4.5 per\n",
    "unit, for the next 100 units, the user will be charged Rs. 6 per unit, and for the next 100 units, the user will\n",
    "be charged Rs. 10 per unit, After 300 units and above the user will be charged Rs. 20 per unit.\n",
    "You are required to take the units of electricity consumed in a month from the user as input.\n",
    "\n",
    "\n",
    "Your program must pass this test case:\n",
    "when the unit of electricity consumed by the user in a month is\n",
    "310, the total electricity bill should be 2250."
   ]
  },
  {
   "cell_type": "code",
   "execution_count": 61,
   "id": "b8b5bf69-ce52-405c-8afe-81c9b003636c",
   "metadata": {},
   "outputs": [
    {
     "name": "stdin",
     "output_type": "stream",
     "text": [
      "Enter a electricy unit 310\n"
     ]
    },
    {
     "name": "stdout",
     "output_type": "stream",
     "text": [
      "5\n",
      "your electricity bill is= 2250.0 INR\n"
     ]
    }
   ],
   "source": [
    "units=float(input('Enter a electricy unit'))\n",
    "while(True):\n",
    "    if(units<=100):\n",
    "        bill=(units-100)*4.5\n",
    "        break\n",
    "    elif(units<=200):\n",
    "        bill=(100*4.5)+(200-units)*6\n",
    "        break\n",
    "    elif(units<=300):\n",
    "        bill=(100*4.5)+(100+6)+(300-units)*10\n",
    "        break\n",
    "    elif units>300:\n",
    "        bill=(100*4.5)+(100*6)+(100*10)+(units-300)*20\n",
    "        break\n",
    "print('your electricity bill is=',bill,'INR')\n",
    "        "
   ]
  },
  {
   "cell_type": "raw",
   "id": "ec569aa1-33de-40d5-914a-ad9a209f303f",
   "metadata": {},
   "source": [
    "Q4. Create a list of numbers from 1 to 100. Use for loop and while loop to calculate the cube of each\n",
    "number and if the cube of that number is divisible by 4 or 5 then append that number in a list and print\n",
    "that list."
   ]
  },
  {
   "cell_type": "code",
   "execution_count": 70,
   "id": "54c59e8d-d4e8-4814-8f43-5f7d3845359f",
   "metadata": {},
   "outputs": [
    {
     "name": "stdout",
     "output_type": "stream",
     "text": [
      "Result list: [2, 4, 5, 6, 8, 10, 12, 14, 15, 16, 18, 20, 22, 24, 25, 26, 28, 30, 32, 34, 35, 36, 38, 40, 42, 44, 45, 46, 48, 50, 52, 54, 55, 56, 58, 60, 62, 64, 65, 66, 68, 70, 72, 74, 75, 76, 78, 80, 82, 84, 85, 86, 88, 90, 92, 94, 95, 96, 98, 100]\n"
     ]
    }
   ],
   "source": [
    "num=[]\n",
    "for i in range(1,101):\n",
    "    if(((i**3)%4==0)or((i**3)%5==0)):\n",
    "        num.append(i)\n",
    "print('Result list:',num)   "
   ]
  },
  {
   "cell_type": "raw",
   "id": "492bc9f6-3eae-41aa-8893-f529e59886d6",
   "metadata": {},
   "source": [
    "Q5. Write a program to filter count vowels in the below-given string.\n",
    "string = \"I want to become a data scientist\""
   ]
  },
  {
   "cell_type": "code",
   "execution_count": 127,
   "id": "c111787e-71fd-4660-b976-9c0132d9053f",
   "metadata": {},
   "outputs": [
    {
     "name": "stdout",
     "output_type": "stream",
     "text": [
      "{'a': 4}\n",
      "{'e': 3}\n",
      "{'i': 2}\n",
      "{'o': 2}\n",
      "{'u': 2}\n"
     ]
    }
   ],
   "source": [
    "string=\"I want to become a data scientist\"\n",
    "for i in ['a','e','i','o','u']:\n",
    "    counter=0\n",
    "    for x in string.split(\" \"):\n",
    "        if (i in x):\n",
    "            co=x.count(i)\n",
    "            Fc=co+counter\n",
    "            counter=Fc\n",
    "    print({i:Fc})\n",
    "            \n",
    "            \n",
    "           "
   ]
  },
  {
   "cell_type": "markdown",
   "id": "507b0775-0437-489b-89c1-631f11b06317",
   "metadata": {},
   "source": [
    "END"
   ]
  }
 ],
 "metadata": {
  "kernelspec": {
   "display_name": "Python 3 (ipykernel)",
   "language": "python",
   "name": "python3"
  },
  "language_info": {
   "codemirror_mode": {
    "name": "ipython",
    "version": 3
   },
   "file_extension": ".py",
   "mimetype": "text/x-python",
   "name": "python",
   "nbconvert_exporter": "python",
   "pygments_lexer": "ipython3",
   "version": "3.10.8"
  }
 },
 "nbformat": 4,
 "nbformat_minor": 5
}
