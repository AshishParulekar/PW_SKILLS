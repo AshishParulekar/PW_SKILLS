{
 "cells": [
  {
   "cell_type": "markdown",
   "id": "051bf823-aec8-498b-8f17-3643dbe97cda",
   "metadata": {},
   "source": [
    "NAME :ASHISH PARULEKR\n",
    "MOB: 8149717616\n",
    "\n",
    "*** Please let me know if there is any improvement  ***"
   ]
  },
  {
   "cell_type": "markdown",
   "id": "b2e2ce4e-ea30-4e69-b671-9c4ba67b7853",
   "metadata": {},
   "source": [
    "Q1. Which keyword is used to create a function? Create a function to return a list of odd numbers in the\n",
    "range of 1 to 25."
   ]
  },
  {
   "cell_type": "code",
   "execution_count": 5,
   "id": "17fb8f52-35bf-448b-bd95-4dad0a8f4e47",
   "metadata": {},
   "outputs": [
    {
     "data": {
      "text/plain": [
       "[2, 4, 6, 8, 10, 12, 14, 16, 18, 20, 22, 24]"
      ]
     },
     "execution_count": 5,
     "metadata": {},
     "output_type": "execute_result"
    }
   ],
   "source": [
    "def odd_num():\n",
    "    odd_list=[]\n",
    "    for i in range(1,26):\n",
    "        if (i%2==0):\n",
    "            odd_list.append(i)\n",
    "    return odd_list\n",
    "odd_num()"
   ]
  },
  {
   "cell_type": "markdown",
   "id": "ad8fa3a6-4968-4667-a1d2-3a71cf81895f",
   "metadata": {},
   "source": [
    "Q2. Why *args and **kwargs is used in some functions? Create a function each for *args and **kwargs\n",
    "to demonstrate their use."
   ]
  },
  {
   "cell_type": "code",
   "execution_count": 15,
   "id": "eac4c5a0-8340-4e98-99e2-b81427d5d685",
   "metadata": {},
   "outputs": [],
   "source": [
    "def cumulative_addition(*args):\n",
    "    k=0\n",
    "    for i in args:\n",
    "        sums=i+k\n",
    "        k=sums\n",
    "    print(k)\n",
    "        "
   ]
  },
  {
   "cell_type": "code",
   "execution_count": 16,
   "id": "02e21dad-7598-41e0-b2fc-8be35d36a9f6",
   "metadata": {},
   "outputs": [
    {
     "name": "stdout",
     "output_type": "stream",
     "text": [
      "55\n"
     ]
    }
   ],
   "source": [
    "odd_num(1,2,3,4,5,6,7,8,9,10)"
   ]
  },
  {
   "cell_type": "code",
   "execution_count": 23,
   "id": "8e87c6cd-4328-4f49-83bc-22d7a735699f",
   "metadata": {},
   "outputs": [],
   "source": [
    "def Dic_form(**args):\n",
    "    print(args)"
   ]
  },
  {
   "cell_type": "code",
   "execution_count": 24,
   "id": "85f4b6b8-17d4-4c3a-b0a9-7c41f0fef2d1",
   "metadata": {},
   "outputs": [
    {
     "name": "stdout",
     "output_type": "stream",
     "text": [
      "{'A': 1, 'B': 2, 'C': 3, 'D': 4, 'E': 5, 'F': 6, 'G': 7, 'H': 8, 'I': 9, 'J': 10}\n"
     ]
    }
   ],
   "source": [
    "Dic_form(A=1,B=2,C=3,D=4,E=5,F=6,G=7,H=8,I=9,J=10)"
   ]
  },
  {
   "cell_type": "markdown",
   "id": "78a2108a-83c1-4b7f-9d77-86658b89ea45",
   "metadata": {},
   "source": [
    "Q3. What is an iterator in python? Name the method used to initialise the iterator object and the method\n",
    "used for iteration. Use these methods to print the first five elements of the given list \n",
    "[2, 4, 6, 8, 10, 12, 14,16, 18, 20]"
   ]
  },
  {
   "cell_type": "code",
   "execution_count": 26,
   "id": "53c3f966-89ad-43bd-b48e-06733af9d4b2",
   "metadata": {},
   "outputs": [
    {
     "name": "stdout",
     "output_type": "stream",
     "text": [
      "2\n",
      "4\n",
      "6\n",
      "8\n",
      "10\n"
     ]
    }
   ],
   "source": [
    "''' if we can iterate a single single element then data type is called as iterator\n",
    "\n",
    "iteration methos= while loop,For loop\n",
    "\n",
    "method used to initialise the iterator=iter()'''\n",
    "\n",
    "li=[2, 4, 6, 8, 10, 12, 14,16, 18, 20]\n",
    "for i in range(len(li)):\n",
    "    if i<5:\n",
    "        print(li[i])"
   ]
  },
  {
   "cell_type": "markdown",
   "id": "51bfc645-6769-4695-b6b6-025242528e5b",
   "metadata": {},
   "source": [
    "Q4. What is a generator function in python? Why yield keyword is used? Give an example of a generator\n",
    "function."
   ]
  },
  {
   "cell_type": "code",
   "execution_count": 6,
   "id": "9138397b-0671-4c3b-87b2-dd324c574c64",
   "metadata": {},
   "outputs": [],
   "source": [
    "'''Generator - generates a value in when required\n",
    "   Yeild keyword is used to yield the single single elemnt when required\n",
    "'''\n",
    "def generator():\n",
    "    for i in range(0,100):\n",
    "        yield i"
   ]
  },
  {
   "cell_type": "code",
   "execution_count": 7,
   "id": "749718c2-6f4c-4cb8-ab7d-f12e73a90c11",
   "metadata": {},
   "outputs": [],
   "source": [
    "x=generator()"
   ]
  },
  {
   "cell_type": "code",
   "execution_count": 9,
   "id": "51177699-b4db-49c7-9664-9c8a965d2f31",
   "metadata": {},
   "outputs": [
    {
     "data": {
      "text/plain": [
       "1"
      ]
     },
     "execution_count": 9,
     "metadata": {},
     "output_type": "execute_result"
    }
   ],
   "source": [
    "next(x)"
   ]
  },
  {
   "cell_type": "markdown",
   "id": "1d2f67ea-45f9-4c62-be21-55fb6e4ddf05",
   "metadata": {},
   "source": [
    "Q5. Create a generator function for prime numbers less than 1000. Use the next() method to print the\n",
    "first 20 prime numbers."
   ]
  },
  {
   "cell_type": "code",
   "execution_count": 151,
   "id": "eeed179d-852d-4265-8e74-3a3ebfd638a4",
   "metadata": {},
   "outputs": [],
   "source": [
    "def generator(R):    \n",
    "    gen=set()\n",
    "    for i in range(1,R):\n",
    "        if i>=1:\n",
    "            for x in range(2,i):\n",
    "                if i%x==0:\n",
    "                    break\n",
    "                gen.add(i)\n",
    "    for y in range(len(gen)):\n",
    "        yield (list(gen)[y])\n",
    "\n"
   ]
  },
  {
   "cell_type": "code",
   "execution_count": 152,
   "id": "3c4ebf07-7f88-4d54-bf93-439207d5a81a",
   "metadata": {},
   "outputs": [],
   "source": [
    "v=generator(1000)"
   ]
  },
  {
   "cell_type": "code",
   "execution_count": 153,
   "id": "77539144-3cb8-4561-9d41-b65ee0e3fae5",
   "metadata": {},
   "outputs": [
    {
     "name": "stdout",
     "output_type": "stream",
     "text": [
      "3\n",
      "5\n",
      "7\n",
      "9\n",
      "11\n",
      "13\n",
      "15\n",
      "17\n",
      "19\n",
      "21\n",
      "23\n",
      "25\n",
      "27\n",
      "29\n",
      "31\n",
      "33\n",
      "35\n",
      "37\n",
      "39\n",
      "41\n"
     ]
    }
   ],
   "source": [
    "for i in range(20):\n",
    "    print(next(v))"
   ]
  },
  {
   "cell_type": "markdown",
   "id": "2277bde0-6876-4225-b23f-4f6376c3649c",
   "metadata": {},
   "source": [
    "Q6. Write a python program to print the first 10 Fibonacci numbers using a while loop."
   ]
  },
  {
   "cell_type": "code",
   "execution_count": 158,
   "id": "a7b0104a-68f3-4457-8b63-2e5a8ce40909",
   "metadata": {},
   "outputs": [
    {
     "name": "stdout",
     "output_type": "stream",
     "text": [
      "0\n",
      "1\n",
      "1\n",
      "2\n",
      "3\n",
      "5\n",
      "8\n",
      "13\n",
      "21\n",
      "34\n"
     ]
    }
   ],
   "source": [
    "a=0\n",
    "b=1\n",
    "for i in range(0,10):\n",
    "    print(a)\n",
    "    c=a+b\n",
    "    a,b=b,c"
   ]
  },
  {
   "cell_type": "markdown",
   "id": "25c01355-4ee6-45c9-a6d5-78aec9c6466b",
   "metadata": {},
   "source": [
    "Q7. Write a List Comprehension to iterate through the given string: ‘pwskills’.\n",
    "Expected output: ['p', 'w', 's', 'k', 'i', 'l', 'l', 's']"
   ]
  },
  {
   "cell_type": "code",
   "execution_count": 160,
   "id": "45a583aa-d371-4180-8d69-66f387e6a2e5",
   "metadata": {},
   "outputs": [
    {
     "data": {
      "text/plain": [
       "['p', 'w', 's', 'k', 'i', 'l', 'l', 's']"
      ]
     },
     "execution_count": 160,
     "metadata": {},
     "output_type": "execute_result"
    }
   ],
   "source": [
    "[i for i in 'pwskills']"
   ]
  },
  {
   "cell_type": "markdown",
   "id": "e046a933-ed68-4a8a-85fe-6949edadb459",
   "metadata": {},
   "source": [
    "Q8. Write a python program to check whether a given number is Palindrome or not using a while loop."
   ]
  },
  {
   "cell_type": "code",
   "execution_count": 198,
   "id": "9220f221-0c7d-4f0e-9b4a-e7a10ea75b99",
   "metadata": {},
   "outputs": [],
   "source": [
    "def Palindrome(Number):\n",
    "    counter=0\n",
    "    string=list(str(Number))\n",
    "    result=[]\n",
    "    while(counter<len(string)):\n",
    "        if(string[counter]==string[-(counter+1)]):\n",
    "            result.append(True)\n",
    "        else:\n",
    "            result.append(False)\n",
    "        counter+=1\n",
    "    if False not in result:\n",
    "        print('{} number is Palindrome'.format(Number))\n",
    "    else:\n",
    "        print('{} number is not Palindrome'.format(Number))\n",
    "    \n",
    "      \n",
    "      \n",
    "    "
   ]
  },
  {
   "cell_type": "code",
   "execution_count": 199,
   "id": "693e7adf-54d6-4f88-813f-6b9449b48abb",
   "metadata": {},
   "outputs": [
    {
     "name": "stdout",
     "output_type": "stream",
     "text": [
      "5489752212 number is not Palindrome\n"
     ]
    }
   ],
   "source": [
    "Palindrome(5489752212)"
   ]
  },
  {
   "cell_type": "markdown",
   "id": "7bfa1fb8-f5d0-4edf-a73a-73769ba3f54a",
   "metadata": {},
   "source": [
    "Q9. Write a code to print odd numbers from 1 to 100 using list comprehension."
   ]
  },
  {
   "cell_type": "code",
   "execution_count": 202,
   "id": "02cbdc94-55b0-498c-9130-4f35892be61f",
   "metadata": {},
   "outputs": [],
   "source": [
    "A=[ i for i in range(101) if i%2!=0]"
   ]
  },
  {
   "cell_type": "code",
   "execution_count": 203,
   "id": "54bb7fa3-c69d-4f1a-9fd5-b2e86a477d1c",
   "metadata": {},
   "outputs": [
    {
     "data": {
      "text/plain": [
       "[1,\n",
       " 3,\n",
       " 5,\n",
       " 7,\n",
       " 9,\n",
       " 11,\n",
       " 13,\n",
       " 15,\n",
       " 17,\n",
       " 19,\n",
       " 21,\n",
       " 23,\n",
       " 25,\n",
       " 27,\n",
       " 29,\n",
       " 31,\n",
       " 33,\n",
       " 35,\n",
       " 37,\n",
       " 39,\n",
       " 41,\n",
       " 43,\n",
       " 45,\n",
       " 47,\n",
       " 49,\n",
       " 51,\n",
       " 53,\n",
       " 55,\n",
       " 57,\n",
       " 59,\n",
       " 61,\n",
       " 63,\n",
       " 65,\n",
       " 67,\n",
       " 69,\n",
       " 71,\n",
       " 73,\n",
       " 75,\n",
       " 77,\n",
       " 79,\n",
       " 81,\n",
       " 83,\n",
       " 85,\n",
       " 87,\n",
       " 89,\n",
       " 91,\n",
       " 93,\n",
       " 95,\n",
       " 97,\n",
       " 99]"
      ]
     },
     "execution_count": 203,
     "metadata": {},
     "output_type": "execute_result"
    }
   ],
   "source": [
    "A"
   ]
  },
  {
   "cell_type": "markdown",
   "id": "60ce6748-a690-4618-8fab-e3ee35086ef2",
   "metadata": {},
   "source": [
    "END"
   ]
  }
 ],
 "metadata": {
  "kernelspec": {
   "display_name": "Python 3 (ipykernel)",
   "language": "python",
   "name": "python3"
  },
  "language_info": {
   "codemirror_mode": {
    "name": "ipython",
    "version": 3
   },
   "file_extension": ".py",
   "mimetype": "text/x-python",
   "name": "python",
   "nbconvert_exporter": "python",
   "pygments_lexer": "ipython3",
   "version": "3.10.8"
  }
 },
 "nbformat": 4,
 "nbformat_minor": 5
}
