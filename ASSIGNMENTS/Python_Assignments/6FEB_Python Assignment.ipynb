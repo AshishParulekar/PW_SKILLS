{
 "cells": [
  {
   "cell_type": "code",
   "execution_count": null,
   "id": "9c95281a-ff8f-4271-9077-22497e085617",
   "metadata": {},
   "outputs": [],
   "source": [
    "NAME :ASHISH PARULEKR\n",
    "MOB: 8149717616\n",
    "\n",
    "*** Please let me know if there is any improvement  ***"
   ]
  },
  {
   "cell_type": "code",
   "execution_count": null,
   "id": "e7fead3d-ddad-49af-aa23-5d8ba7c0feb4",
   "metadata": {},
   "outputs": [],
   "source": [
    "Q1. Create a function which will take a list as an argument and return the product of all the numbers\n",
    "after creating a flat list.\n",
    "Use the below-given list as an argument for your function.\n",
    "list1 = [1,2,3,4, [44,55,66, True], False, (34,56,78,89,34), {1,2,3,3,2,1}, {1:34, \"key2\": [55, 67, 78, 89], 4: (45,\n",
    "22, 61, 34)}, [56, 'data science'], 'Machine Learning']\n",
    "Note: you must extract numeric keys and values of the dictionary also."
   ]
  },
  {
   "cell_type": "code",
   "execution_count": 19,
   "id": "a906b417-dbf0-4279-acf1-16b6458a8241",
   "metadata": {},
   "outputs": [],
   "source": [
    "list1 = [1,2,3,4, [44,55,66, True], False, (34,56,78,89,34), {1,2,3,3,2,1}, {1:34, \"key2\": [55, 67, 78, 89], 4: (45,\n",
    "22, 61, 34)}, [56, 'data science'], 'Machine Learning']"
   ]
  },
  {
   "cell_type": "code",
   "execution_count": 204,
   "id": "4f9554cb-07a5-432d-a617-4031b4a852bd",
   "metadata": {},
   "outputs": [],
   "source": [
    "def Flat_list(Li):\n",
    "    from functools import reduce\n",
    "    flat_list=list()\n",
    "    for i in Li:\n",
    "        if (type(i)==dict):\n",
    "            for x in i:\n",
    "                if type(i[x])==int:\n",
    "                    flat_list.append(i[x])\n",
    "                    flat_list.append(x)\n",
    "                elif(type(i[x])==list)or(type(i[x])==set) or(type(i[x])==tuple):\n",
    "                    for y in i[x]:\n",
    "                        if (type(y)==str) or (type(y)==bool):\n",
    "                            pass\n",
    "                        else:\n",
    "                            flat_list.append(y)\n",
    "            if(type(x)==int):\n",
    "                flat_list.append(x)\n",
    "                 \n",
    "                    \n",
    "        elif ((type(i)==list) or (type(i)==tuple) or (type(i)==set)):\n",
    "             for x in i:\n",
    "                if type(x)==bool or type(x)==str:\n",
    "                    pass\n",
    "                else:\n",
    "                    flat_list.append(x)  \n",
    "                    \n",
    "                    \n",
    "        elif ((type(i)==int) or (type(i)==float)):\n",
    "            flat_list.append(i)\n",
    "            \n",
    "        else:\n",
    "            pass    \n",
    "        \n",
    "    # multiplication                 \n",
    "    return  reduce(lambda x,y:x*y,flat_list)\n",
    "            "
   ]
  },
  {
   "cell_type": "code",
   "execution_count": 209,
   "id": "1095483b-9bde-4487-9c6f-421a2cd32772",
   "metadata": {},
   "outputs": [
    {
     "data": {
      "text/plain": [
       "4134711838987085478833841242112000"
      ]
     },
     "execution_count": 209,
     "metadata": {},
     "output_type": "execute_result"
    }
   ],
   "source": [
    "Flat_list(list1)"
   ]
  },
  {
   "cell_type": "code",
   "execution_count": null,
   "id": "71345af4-820f-4f7c-be78-2b2d0b748f4f",
   "metadata": {},
   "outputs": [],
   "source": [
    "Q2. Write a python program for encrypting a message sent to you by your friend. The logic of encryption\n",
    "should be such that, for a the output should be z. For b, the output should be y. For c, the output should\n",
    "be x respectively. Also, the whitespace should be replaced with a dollar sign. Keep the punctuation\n",
    "marks unchanged.\n",
    "Input Sentence: I want to become a Data Scientist.\n",
    "Encrypt the above input sentence using the program you just created.\n",
    "Note: Convert the given input sentence into lowercase before encrypting. The final output should be\n",
    "lowercase."
   ]
  },
  {
   "cell_type": "code",
   "execution_count": 230,
   "id": "143f6bec-2be1-4594-b7ea-eb6954d7186c",
   "metadata": {},
   "outputs": [],
   "source": [
    "Sentence='I want to become a Data Scientist.'"
   ]
  },
  {
   "cell_type": "code",
   "execution_count": 233,
   "id": "7cdcd442-7e64-4a81-99ff-385646200f18",
   "metadata": {},
   "outputs": [],
   "source": [
    "def encryption_fun(sentence):\n",
    "    sen=sentence.lower()\n",
    "    con=True\n",
    "    while(con):\n",
    "        if 'a' in sen:\n",
    "            sen= sen.replace('a','z')\n",
    "        elif 'b' in sen:\n",
    "            sen=sen.replace('b','y')\n",
    "        elif 'c' in sen:\n",
    "            sen=sen.replace('c','x')\n",
    "        elif ' ' in sen:\n",
    "            sen=sen.replace(' ','$')\n",
    "        else:\n",
    "            con=False\n",
    "    return sen\n",
    "\n",
    "\n",
    "    "
   ]
  },
  {
   "cell_type": "code",
   "execution_count": 234,
   "id": "99fdd715-ee16-45e2-9aeb-34da9b3dfb73",
   "metadata": {},
   "outputs": [
    {
     "data": {
      "text/plain": [
       "'i$wznt$to$yexome$z$dztz$sxientist.'"
      ]
     },
     "execution_count": 234,
     "metadata": {},
     "output_type": "execute_result"
    }
   ],
   "source": [
    "encryption_fun(Sentence)"
   ]
  },
  {
   "cell_type": "markdown",
   "id": "4ab11e3f-ec3d-4f34-ae13-d88d7783c2c2",
   "metadata": {},
   "source": [
    "END"
   ]
  }
 ],
 "metadata": {
  "kernelspec": {
   "display_name": "Python 3 (ipykernel)",
   "language": "python",
   "name": "python3"
  },
  "language_info": {
   "codemirror_mode": {
    "name": "ipython",
    "version": 3
   },
   "file_extension": ".py",
   "mimetype": "text/x-python",
   "name": "python",
   "nbconvert_exporter": "python",
   "pygments_lexer": "ipython3",
   "version": "3.10.8"
  }
 },
 "nbformat": 4,
 "nbformat_minor": 5
}
