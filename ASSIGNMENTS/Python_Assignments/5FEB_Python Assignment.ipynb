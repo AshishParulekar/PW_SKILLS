{
 "cells": [
  {
   "cell_type": "markdown",
   "id": "6589ad68-6ac6-4a92-8208-e39f37d27902",
   "metadata": {},
   "source": [
    "NAME :ASHISH PARULEKR\n",
    "MOB: 8149717616\n",
    "\n",
    "*** Please let me know if there is any improvement  ***"
   ]
  },
  {
   "cell_type": "markdown",
   "id": "841982b7-b564-4610-bf3c-1a3f5de44e7b",
   "metadata": {},
   "source": [
    "Q1. Explain Class and Object with respect to Object-Oriented Programming. Give a suitable example.\n"
   ]
  },
  {
   "cell_type": "markdown",
   "id": "2b453ffe-b683-4ebd-8f07-a5fdf604c589",
   "metadata": {},
   "source": [
    "class:-A class is a code template for creating objects In python a class is created by the keyword class .\n",
    "object:-Objects have member variables and have behaviour associated with the class\n",
    "        An object is created using the constructor of the class.This object will then be \n",
    "        called the instance of the class."
   ]
  },
  {
   "cell_type": "code",
   "execution_count": 11,
   "id": "2557090d-9973-4964-a0d3-a0c5c9256549",
   "metadata": {},
   "outputs": [],
   "source": [
    "class Reading():\n",
    "    def __init__(self,message):\n",
    "        self.message=message\n",
    "    def print_message(self):\n",
    "        print(self.message)"
   ]
  },
  {
   "cell_type": "code",
   "execution_count": 12,
   "id": "11d58a6b-cb2b-4158-8d0e-09ba7d0e8cdd",
   "metadata": {},
   "outputs": [
    {
     "name": "stdout",
     "output_type": "stream",
     "text": [
      "I am learning Data science from PW SKILLS\n"
     ]
    }
   ],
   "source": [
    "Book_1=Reading('I am learning Data science from PW SKILLS')\n",
    "Book_1.print_message()"
   ]
  },
  {
   "cell_type": "markdown",
   "id": "153d50b5-cacc-48c6-8ed3-48c4d316ab76",
   "metadata": {},
   "source": [
    "Here:-\n",
    "Redaing is class  \n",
    "      &\n",
    "Book_1 is the object of class Reading"
   ]
  },
  {
   "cell_type": "markdown",
   "id": "bf7ca48d-b8c0-4237-b2c5-383e863b4d15",
   "metadata": {},
   "source": [
    "Q2. Name the four pillars of OOPs.\n",
    "\n",
    " Ans: These four pillars are Inheritance, Polymorphism, Encapsulation and Abstraction."
   ]
  },
  {
   "cell_type": "markdown",
   "id": "2eda767f-7864-4282-b6bd-3f3be80b078c",
   "metadata": {},
   "source": [
    "Q3. Explain why the __init__() function is used. Give a suitable example.\n",
    "   init is constructor which will run whenever we define a object constructor also allowed us to pass the varible "
   ]
  },
  {
   "cell_type": "markdown",
   "id": "86ba37b9-ce67-47fa-88cf-19de07ad8e68",
   "metadata": {},
   "source": [
    "Q4. Why self is used in OOPs?\n",
    "    self represents the instance of the class. By using the “self”  we can access the attributes and methods of the class     in python. It binds the attributes with the given arguments.\n",
    "    self refers current object "
   ]
  },
  {
   "cell_type": "markdown",
   "id": "6024be92-2180-4496-8dfc-196f6ec3eac8",
   "metadata": {},
   "source": [
    "Q5. What is inheritance? Give an example for each type of inheritance.\n",
    "    Inheritance is a mechanism of acquiring the features and behaviors of a class by another class. \n",
    "    The class whose members are inherited is called the base class, and the class \n",
    "    that inherits those members is called the derived class. \n",
    "    \n",
    "    Types of inheritance:-\n",
    "    \n",
    "    1)Single Inheritance.\n",
    "    2)Multiple Inheritance.\n",
    "    3)Multi-level Inheritance."
   ]
  },
  {
   "cell_type": "code",
   "execution_count": 23,
   "id": "e0084163-1fe4-4af3-982f-82c963cbc005",
   "metadata": {},
   "outputs": [],
   "source": [
    "class parent():\n",
    "    def parent_message(self):\n",
    "        print('This is parent class')\n",
    "        \n",
    "class parent_second():\n",
    "    def parent_sencond_message(self):\n",
    "        print('This is second parent class')\n",
    "        \n",
    "class single_inheritance(parent):\n",
    "    def single_inheritance_message(self):\n",
    "        print('This is example of single inheritence')\n",
    "    \n",
    "class multiple_inheritance(parent,parent_second):\n",
    "    def multiple_inheritance_message(self):\n",
    "        print('This is example of multiple inheritence')\n",
    "        print('properity inherited by two class','/n parent_class:-parent & parent_second')\n",
    "        \n",
    "class multilevel_inheritance(single_inheritance):\n",
    "    def multilevel_inheritance_message(self):\n",
    "        print('This is example of multiple inheritence')\n",
    "        print('properity inherited from single_inheritance and then this to parent')\n",
    "\n",
    "        \n",
    "        "
   ]
  },
  {
   "cell_type": "code",
   "execution_count": 25,
   "id": "5d346676-c85d-4a98-b23a-c73306c034e8",
   "metadata": {},
   "outputs": [
    {
     "name": "stdout",
     "output_type": "stream",
     "text": [
      "This is example of single inheritence\n",
      "This is parent class\n"
     ]
    }
   ],
   "source": [
    "SI=single_inheritance()\n",
    "SI.single_inheritance_message()\n",
    "SI.parent_message()"
   ]
  },
  {
   "cell_type": "code",
   "execution_count": 28,
   "id": "3c023792-0998-44fd-8bce-e11759c33d5e",
   "metadata": {},
   "outputs": [
    {
     "name": "stdout",
     "output_type": "stream",
     "text": [
      "This is parent class\n",
      "This is second parent class\n",
      "This is example of multiple inheritence\n",
      "properity inherited by two class /n parent_class:-parent & parent_second\n"
     ]
    }
   ],
   "source": [
    "MI=multiple_inheritance()\n",
    "MI.parent_message()\n",
    "MI.parent_sencond_message()\n",
    "MI.multiple_inheritance_message()"
   ]
  },
  {
   "cell_type": "code",
   "execution_count": 34,
   "id": "7b0c114a-69f2-42dc-a611-afcebb0973b4",
   "metadata": {},
   "outputs": [
    {
     "name": "stdout",
     "output_type": "stream",
     "text": [
      "This is example of multiple inheritence\n",
      "properity inherited from single_inheritance and then this to parent\n",
      "This is example of single inheritence\n",
      "This is parent class\n"
     ]
    }
   ],
   "source": [
    "mul_level=multilevel_inheritance()\n",
    "mul_level.multilevel_inheritance_message()\n",
    "mul_level.single_inheritance_message()\n",
    "mul_level.parent_message()"
   ]
  },
  {
   "cell_type": "markdown",
   "id": "f3d44c16-972e-49f8-8af0-1aa903d5c1f0",
   "metadata": {},
   "source": [
    "END"
   ]
  }
 ],
 "metadata": {
  "kernelspec": {
   "display_name": "Python 3 (ipykernel)",
   "language": "python",
   "name": "python3"
  },
  "language_info": {
   "codemirror_mode": {
    "name": "ipython",
    "version": 3
   },
   "file_extension": ".py",
   "mimetype": "text/x-python",
   "name": "python",
   "nbconvert_exporter": "python",
   "pygments_lexer": "ipython3",
   "version": "3.10.8"
  }
 },
 "nbformat": 4,
 "nbformat_minor": 5
}
