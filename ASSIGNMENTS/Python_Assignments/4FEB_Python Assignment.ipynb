{
 "cells": [
  {
   "cell_type": "code",
   "execution_count": null,
   "id": "9cbcbab6-0ede-46d8-a1c0-23e23393656b",
   "metadata": {},
   "outputs": [],
   "source": [
    "NAME :ASHISH PARULEKR\n",
    "MOB: 8149717616\n",
    "\n",
    "*** Please let me know if there is any improvement  ***"
   ]
  },
  {
   "cell_type": "raw",
   "id": "82d9397d-cde0-4693-95f6-9c9fe2233573",
   "metadata": {},
   "source": [
    "Q1. Create a python program to sort the given list of tuples based on integer value using a\n",
    "lambda function."
   ]
  },
  {
   "cell_type": "code",
   "execution_count": 1,
   "id": "64ef9fbe-bb77-4402-a489-aa5805b9b98f",
   "metadata": {},
   "outputs": [],
   "source": [
    "Li=[('Sachin Tendulkar', 34357), ('Ricky Ponting', 27483), ('Jack Kallis', 25534), ('Virat Kohli', 24936)]"
   ]
  },
  {
   "cell_type": "code",
   "execution_count": 3,
   "id": "9961c576-45a8-4d6c-b64d-fd37e79366b9",
   "metadata": {},
   "outputs": [
    {
     "data": {
      "text/plain": [
       "[('Sachin Tendulkar', 34357),\n",
       " ('Ricky Ponting', 27483),\n",
       " ('Jack Kallis', 25534),\n",
       " ('Virat Kohli', 24936)]"
      ]
     },
     "execution_count": 3,
     "metadata": {},
     "output_type": "execute_result"
    }
   ],
   "source": [
    "sorted(Li,key=lambda x:x[1],reverse=True)"
   ]
  },
  {
   "cell_type": "raw",
   "id": "ec9688d5-b6b6-40d5-844b-4e5269ecf151",
   "metadata": {},
   "source": [
    "Q2. Write a Python Program to find the squares of all the numbers in the given list of integers using\n",
    "lambda and map functions.\n"
   ]
  },
  {
   "cell_type": "code",
   "execution_count": 4,
   "id": "528e416b-6c49-4a6a-b370-ecd5d3b192ae",
   "metadata": {},
   "outputs": [],
   "source": [
    "li=[1, 2, 3, 4, 5, 6, 7, 8, 9, 10]"
   ]
  },
  {
   "cell_type": "code",
   "execution_count": 5,
   "id": "1e456541-9e37-43d6-930a-40acc5c1191c",
   "metadata": {},
   "outputs": [
    {
     "data": {
      "text/plain": [
       "[1, 4, 9, 16, 25, 36, 49, 64, 81, 100]"
      ]
     },
     "execution_count": 5,
     "metadata": {},
     "output_type": "execute_result"
    }
   ],
   "source": [
    "list(map(lambda x:x**2,li))"
   ]
  },
  {
   "cell_type": "raw",
   "id": "087b74c9-dc73-4648-b866-541fe0c18065",
   "metadata": {},
   "source": [
    "Q3. Write a python program to convert the given list of integers into a tuple of strings. Use map and\n",
    "lambda functions\n",
    "Given String: [1, 2, 3, 4, 5, 6, 7, 8, 9, 10]\n",
    "Expected output: ('1', '2', '3', '4', '5', '6', '7', '8', '9', '10')"
   ]
  },
  {
   "cell_type": "code",
   "execution_count": 6,
   "id": "533e6166-9106-437c-a609-5b7139a29a8b",
   "metadata": {},
   "outputs": [],
   "source": [
    "Given_String=[1, 2, 3, 4, 5, 6, 7, 8, 9, 10]"
   ]
  },
  {
   "cell_type": "code",
   "execution_count": 10,
   "id": "037cd7e5-3f31-459a-9e1e-fae49a6b414a",
   "metadata": {},
   "outputs": [
    {
     "data": {
      "text/plain": [
       "('1', '2', '3', '4', '5', '6', '7', '8', '9', '10')"
      ]
     },
     "execution_count": 10,
     "metadata": {},
     "output_type": "execute_result"
    }
   ],
   "source": [
    "tuple(map(lambda x:str(x),Given_String))"
   ]
  },
  {
   "cell_type": "raw",
   "id": "7f1af20c-c27f-413a-995b-ebb141acef8e",
   "metadata": {},
   "source": [
    "Q4. Write a python program using reduce function to compute the product of a list containing numbers\n",
    "from 1 to 25."
   ]
  },
  {
   "cell_type": "code",
   "execution_count": 19,
   "id": "76b0f1f9-8ee0-4812-8511-dd6b122619a2",
   "metadata": {},
   "outputs": [],
   "source": [
    "from functools import reduce"
   ]
  },
  {
   "cell_type": "code",
   "execution_count": 54,
   "id": "a60303ed-f281-432e-93e9-a25ac1bce8ff",
   "metadata": {},
   "outputs": [],
   "source": [
    "li=list(range(1,26))"
   ]
  },
  {
   "cell_type": "code",
   "execution_count": 55,
   "id": "3578f313-a15c-41c6-a6fb-5737cb4c498a",
   "metadata": {},
   "outputs": [
    {
     "data": {
      "text/plain": [
       "15511210043330985984000000"
      ]
     },
     "execution_count": 55,
     "metadata": {},
     "output_type": "execute_result"
    }
   ],
   "source": [
    "(reduce(lambda x,y : x*y,li))"
   ]
  },
  {
   "cell_type": "raw",
   "id": "1c0c4a7c-156c-4191-8aa6-891686169177",
   "metadata": {},
   "source": [
    "Q5. Write a python program to filter the numbers in a given list that are divisible by 2 and 3 using the\n",
    "filter function.\n",
    "[2, 3, 6, 9, 27, 60, 90, 120, 55, 46]"
   ]
  },
  {
   "cell_type": "code",
   "execution_count": 56,
   "id": "9131702f-6686-4b36-90bb-3dd14e165144",
   "metadata": {},
   "outputs": [],
   "source": [
    "li=[2, 3, 6, 9, 27, 60, 90, 120, 55, 46]"
   ]
  },
  {
   "cell_type": "code",
   "execution_count": 59,
   "id": "b1c43bd8-8af8-4e3d-a48a-21ba3feefa39",
   "metadata": {},
   "outputs": [
    {
     "data": {
      "text/plain": [
       "[2, 3, 6, 9, 27, 60, 90, 120, 46]"
      ]
     },
     "execution_count": 59,
     "metadata": {},
     "output_type": "execute_result"
    }
   ],
   "source": [
    "list(filter(lambda x :x%2==0 or x%3==0,li))"
   ]
  },
  {
   "cell_type": "raw",
   "id": "8d086bbb-3c6d-4f6c-bb10-dc91a2c6f7b1",
   "metadata": {},
   "source": [
    "Q6. Write a python program to find palindromes in the given list of strings using lambda and filter\n",
    "function.\n",
    "['python', 'php', 'aba', 'radar', 'level']"
   ]
  },
  {
   "cell_type": "code",
   "execution_count": 60,
   "id": "17669825-8d1d-4997-b033-8e3b38fbee94",
   "metadata": {},
   "outputs": [],
   "source": [
    "li=['python', 'php', 'aba', 'radar', 'level']"
   ]
  },
  {
   "cell_type": "code",
   "execution_count": 62,
   "id": "349050ae-d68a-4bf4-9bc9-ae1e1ae1bff4",
   "metadata": {},
   "outputs": [
    {
     "data": {
      "text/plain": [
       "['php', 'aba', 'radar', 'level']"
      ]
     },
     "execution_count": 62,
     "metadata": {},
     "output_type": "execute_result"
    }
   ],
   "source": [
    "list(filter(lambda x: x==x[::-1],li))"
   ]
  },
  {
   "cell_type": "raw",
   "id": "6a62b20e-5c01-46a3-bb36-421102f8b160",
   "metadata": {},
   "source": [
    "END"
   ]
  }
 ],
 "metadata": {
  "kernelspec": {
   "display_name": "Python 3 (ipykernel)",
   "language": "python",
   "name": "python3"
  },
  "language_info": {
   "codemirror_mode": {
    "name": "ipython",
    "version": 3
   },
   "file_extension": ".py",
   "mimetype": "text/x-python",
   "name": "python",
   "nbconvert_exporter": "python",
   "pygments_lexer": "ipython3",
   "version": "3.10.8"
  }
 },
 "nbformat": 4,
 "nbformat_minor": 5
}
