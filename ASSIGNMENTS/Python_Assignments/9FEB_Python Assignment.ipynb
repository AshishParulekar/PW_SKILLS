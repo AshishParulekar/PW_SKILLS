{
 "cells": [
  {
   "cell_type": "code",
   "execution_count": null,
   "id": "dd539ec9-c002-48bd-ae3e-8bdf699f1023",
   "metadata": {},
   "outputs": [],
   "source": [
    "NAME :ASHISH PARULEKR\n",
    "MOB: 8149717616\n",
    "\n",
    "*** Please let me know if there is any improvement  ***"
   ]
  },
  {
   "cell_type": "code",
   "execution_count": null,
   "id": "f724073b-95e0-4a8f-9e86-3704f396f456",
   "metadata": {},
   "outputs": [],
   "source": [
    "Q1, Create a vehicle class with an init method having instance variables as name_of_vehicle, max_speed\n",
    "and average_of_vehicle."
   ]
  },
  {
   "cell_type": "code",
   "execution_count": 2,
   "id": "c2c0bd9a-df54-48af-a722-3f4a33f51ede",
   "metadata": {},
   "outputs": [],
   "source": [
    "class vehicle():\n",
    "    def __init__(self,vehicle_name,max_speed,average_speed):\n",
    "        self.vehicle_name=vehicle_name\n",
    "        self.max_speed=max_speed\n",
    "        self.average_speed=average_speed"
   ]
  },
  {
   "cell_type": "code",
   "execution_count": null,
   "id": "c0d1f071-2e3b-4ec7-b017-e376230d8ccf",
   "metadata": {},
   "outputs": [],
   "source": [
    "Q2. Create a child class car from the vehicle class created in Que 1, which will inherit the vehicle class.\n",
    "Create a method named seating_capacity which takes capacity as an argument and returns the name of\n",
    "the vehicle and its seating capacity."
   ]
  },
  {
   "cell_type": "code",
   "execution_count": 63,
   "id": "7b679192-f7e9-44b5-b169-f7830ceacccf",
   "metadata": {},
   "outputs": [],
   "source": [
    "class car(vehicle):\n",
    "    def __init__(self,capacity,vehicle_name,max_speed,average_speed): \n",
    "        self.capacity=capacity\n",
    "        super().__init__(vehicle_name,max_speed,average_speed)\n",
    "    def seating_capacity(self):\n",
    "        print(self.capacity,self.vehicle_name) "
   ]
  },
  {
   "cell_type": "code",
   "execution_count": 64,
   "id": "c5e29b34-1391-4177-a574-03c939c8c297",
   "metadata": {},
   "outputs": [],
   "source": [
    "test=car('Honda_City',5,120,70)"
   ]
  },
  {
   "cell_type": "code",
   "execution_count": 66,
   "id": "8be8c587-dfba-4ba4-a162-922fdbe77798",
   "metadata": {},
   "outputs": [
    {
     "name": "stdout",
     "output_type": "stream",
     "text": [
      "Honda_City 5\n"
     ]
    }
   ],
   "source": [
    "test.seating_capacity()"
   ]
  },
  {
   "cell_type": "code",
   "execution_count": null,
   "id": "e04c59ce-5c34-4bd7-9cc4-a270762d26c9",
   "metadata": {},
   "outputs": [],
   "source": [
    "Q3. What is multiple inheritance? Write a python code to demonstrate multiple inheritance."
   ]
  },
  {
   "cell_type": "code",
   "execution_count": null,
   "id": "f3948034-d64b-4695-b226-5f43321e01d9",
   "metadata": {},
   "outputs": [],
   "source": [
    "#multiple inheritence= A & B Parent_____child C\n",
    "class car():\n",
    "    def __init__(self,vehicle_name,max_speed,average_speed):\n",
    "        self.vehicle_name=vehicle_name\n",
    "        self.max_speed=max_speed\n",
    "        self.average_speed=average_speed\n",
    "    def seating_capacity(self,capacity):\n",
    "        print(capacity,self.vehicle_name) \n",
    "        \n",
    "class Bike():\n",
    "    def __init__(self,vehicle_name,max_speed,average_speed):\n",
    "        pass\n",
    "    \n",
    "class vehicle(car,Bike):\n",
    "    def __init__(self,name):\n",
    "        print(name)\n",
    "    "
   ]
  },
  {
   "cell_type": "code",
   "execution_count": null,
   "id": "ff50ec6f-417f-45af-a80a-406080826ec5",
   "metadata": {},
   "outputs": [],
   "source": [
    "Q4. What are getter and setter in python? Create a class and create a getter and a setter method in this\n",
    "class."
   ]
  },
  {
   "cell_type": "code",
   "execution_count": 81,
   "id": "341df7ef-fd17-46af-910b-94b58907c030",
   "metadata": {},
   "outputs": [],
   "source": [
    "class bank():\n",
    "    def __init__(self,bank_name):\n",
    "        self.bank_name=bank_name\n",
    "        self.__bank_balance=100000\n",
    "        \n",
    "        \n",
    "    def get_BB(self):\n",
    "        return self.__bank_balance\n",
    "    \n",
    "    def set_BB(self,amount):\n",
    "        self.__bank_balance=amount\n",
    "        return 'Balance_set_sucessfully'\n",
    "    \n",
    "    def withdrow(self,Wamount):\n",
    "        if self.__bank_balance >Wamount:\n",
    "            self.__bank_balance=self.__bank_balance-Wamount     \n",
    "        return 'balnace amount:={}'.format(self.__bank_balance) \n",
    "        "
   ]
  },
  {
   "cell_type": "code",
   "execution_count": 92,
   "id": "145bd128-0cbe-4713-b57f-901bbc26eaae",
   "metadata": {},
   "outputs": [
    {
     "data": {
      "text/plain": [
       "'Balance_set_sucessfully'"
      ]
     },
     "execution_count": 92,
     "metadata": {},
     "output_type": "execute_result"
    }
   ],
   "source": [
    "AP=bank('STATE BANK')\n",
    "AP.withdrow(8000)\n",
    "AP.set_BB(95000)"
   ]
  },
  {
   "cell_type": "code",
   "execution_count": 93,
   "id": "9b3c0753-d84d-46d7-8be9-16018961c439",
   "metadata": {},
   "outputs": [
    {
     "data": {
      "text/plain": [
       "'balnace amount:=87000'"
      ]
     },
     "execution_count": 93,
     "metadata": {},
     "output_type": "execute_result"
    }
   ],
   "source": [
    "AP.withdrow(8000)"
   ]
  },
  {
   "cell_type": "code",
   "execution_count": null,
   "id": "ac121b9d-cc3d-4948-918a-175064e2e15a",
   "metadata": {},
   "outputs": [],
   "source": [
    "Q5.What is method overriding in python? Write a python code to demonstrate method overriding."
   ]
  },
  {
   "cell_type": "code",
   "execution_count": null,
   "id": "46e6b474-3ddc-4ff5-a19d-cc7ce0af7c5f",
   "metadata": {},
   "outputs": [],
   "source": [
    "class car():\n",
    "    def __init__(self,vehicle_name,max_speed,average_speed):\n",
    "        self.vehicle_name=vehicle_name\n",
    "        self.max_speed=max_speed\n",
    "        self.average_speed=average_speed\n",
    "        \n",
    "class Bike(car):\n",
    "    def __init__(self,vehicle_name,max_speed,average_speed):\n",
    "        pass"
   ]
  },
  {
   "cell_type": "code",
   "execution_count": null,
   "id": "aa6b5375-463b-4ffa-adf8-7f5821d3d05e",
   "metadata": {},
   "outputs": [],
   "source": [
    "Here in both parent class car and child class Bike having constuctor but only child class constuctor will \n",
    "run when we make object of child class"
   ]
  },
  {
   "cell_type": "markdown",
   "id": "b9cc7869-1b3d-46d3-95bd-c57a5149cafb",
   "metadata": {},
   "source": [
    "END"
   ]
  }
 ],
 "metadata": {
  "kernelspec": {
   "display_name": "Python 3 (ipykernel)",
   "language": "python",
   "name": "python3"
  },
  "language_info": {
   "codemirror_mode": {
    "name": "ipython",
    "version": 3
   },
   "file_extension": ".py",
   "mimetype": "text/x-python",
   "name": "python",
   "nbconvert_exporter": "python",
   "pygments_lexer": "ipython3",
   "version": "3.10.8"
  }
 },
 "nbformat": 4,
 "nbformat_minor": 5
}
